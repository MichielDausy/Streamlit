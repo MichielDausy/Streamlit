{
 "cells": [
  {
   "cell_type": "markdown",
   "metadata": {},
   "source": [
    "## Cryptarithmetic Puzzle\n",
    "\n",
    "First I import the neccesary libraries to complete this task"
   ]
  },
  {
   "cell_type": "code",
   "execution_count": 77,
   "metadata": {},
   "outputs": [],
   "source": [
    "import streamlit as st\n",
    "from simpleai.search import CspProblem, backtrack"
   ]
  },
  {
   "cell_type": "markdown",
   "metadata": {},
   "source": [
    "The streamlit app asks the user to enter 3 words\n",
    "\n",
    "The words are concatenated, placed in a set so there are no duplicate characters and then placed into a tuple"
   ]
  },
  {
   "cell_type": "code",
   "execution_count": 78,
   "metadata": {},
   "outputs": [],
   "source": [
    "number1 = st.text_input(\"Enter the first word:\") #TO\n",
    "number2 = st.text_input(\"Enter the second word:\") #GO\n",
    "result = st.text_input(\"Enter the result:\") #OUT\n",
    "variables = tuple(set(number1+number2+result)) #TOGU"
   ]
  },
  {
   "cell_type": "code",
   "execution_count": null,
   "metadata": {},
   "outputs": [],
   "source": [
    "with st.form(key='my_form_to_submit'):\n",
    "    submit_button = st.form_submit_button(label='Submit')"
   ]
  },
  {
   "cell_type": "markdown",
   "metadata": {},
   "source": [
    "I then set the possible values for all the characters that the user entered where the first character of number 1, 2 and result cannot be 0\n",
    "\n",
    "The other chracters can be a number from 0 to 10"
   ]
  },
  {
   "cell_type": "code",
   "execution_count": 79,
   "metadata": {},
   "outputs": [],
   "source": [
    "#if len(number1) > 0 and len(number2) > 0 and len(result) > 0:\n",
    "if submit_button:\n",
    "        domains = {\n",
    "                number1[0]: list(range(1, 10)),\n",
    "                number2[0]: list(range(1, 10)),\n",
    "                result[0]: list(range(1, 10)),\n",
    "        }"
   ]
  },
  {
   "cell_type": "markdown",
   "metadata": {},
   "source": [
    "The other characters aren't added to the domain dictionary yet\n",
    "\n",
    "To do this I use a for loop to dynamically add the possible values to a character which are the numbers 0 through 10"
   ]
  },
  {
   "cell_type": "code",
   "execution_count": 80,
   "metadata": {},
   "outputs": [],
   "source": [
    "if submit_button:\n",
    "    for variable in variables:\n",
    "        if variable not in domains:\n",
    "            domains[variable] = list(range(0, 10))"
   ]
  },
  {
   "cell_type": "markdown",
   "metadata": {},
   "source": [
    "Here I add a constraint to add the 2 words together"
   ]
  },
  {
   "cell_type": "code",
   "execution_count": 81,
   "metadata": {},
   "outputs": [],
   "source": [
    "def constraint_unique(variables, values):\n",
    "    return len(values) == len(set(values))  # remove repeated values and count\n",
    "\n",
    "def constraint_add(variables, values):\n",
    "    factor1 = \"\"\n",
    "    factor2 = \"\"\n",
    "    sum = \"\"\n",
    "    for char in number1:\n",
    "        factor1 += str(values[variables.index(char)])\n",
    "    for char in number2:\n",
    "        factor2 += str(values[variables.index(char)])\n",
    "    for char in result:\n",
    "        sum += str(values[variables.index(char)])\n",
    "    return (int(factor1) + int(factor2)) == int(sum)"
   ]
  },
  {
   "cell_type": "code",
   "execution_count": 82,
   "metadata": {},
   "outputs": [],
   "source": [
    "constraints = [\n",
    "    (variables, constraint_unique), #TOGU\n",
    "    (variables, constraint_add), #TOGU\n",
    "]"
   ]
  },
  {
   "cell_type": "code",
   "execution_count": 83,
   "metadata": {},
   "outputs": [
    {
     "name": "stdout",
     "output_type": "stream",
     "text": [
      "No solution\n"
     ]
    }
   ],
   "source": [
    "#if len(number1) > 0 and len(number2) > 0 and len(result) > 0:\n",
    "if submit_button:\n",
    "    problem = CspProblem(variables, domains, constraints)\n",
    "    output = backtrack(problem)\n",
    "    print('\\nSolutions:', output)\n",
    "else:\n",
    "    output = None\n",
    "    print('No solution')"
   ]
  },
  {
   "cell_type": "markdown",
   "metadata": {},
   "source": [
    "Compute the number of columns necessary"
   ]
  },
  {
   "cell_type": "code",
   "execution_count": null,
   "metadata": {},
   "outputs": [],
   "source": [
    "n_col = len(result)\n",
    "cols = st.columns(n_col)"
   ]
  },
  {
   "cell_type": "code",
   "execution_count": 84,
   "metadata": {},
   "outputs": [],
   "source": [
    "letters = []\n",
    "numbers = []\n",
    "if output is not None:\n",
    "    for letter, number in output.items():\n",
    "        letters.append(letter)\n",
    "        numbers.append(str(number)) #ik maak een string van de nummers zodat de spacing in de output overeenkomt met de letters\n",
    "    st.text(letters)\n",
    "    st.text(numbers)\n",
    "    #---------------------------------\n",
    "    for i, x in enumerate(cols):\n",
    "        x.selectbox(number1)\n",
    "        x.selectbox(\"&plus;\", number2)\n",
    "        x.selectbox(\"&tab;\", result)\n",
    "    #---------------------------------\n",
    "    for variable in variables:\n",
    "         st.write(f\"{output[variable]}\", end=\"\\t\")"
   ]
  },
  {
   "cell_type": "markdown",
   "metadata": {},
   "source": [
    "## Generative AI Tools\n",
    "\n",
    "### Prompts used\n",
    "\n",
    "In python can I loop over a list to creatre a key value pair in a dictionary - BingAI\n",
    "\n",
    "In python using the simpleai library explain how the constraints work - BingAI\n",
    "\n",
    "in streamlit when assigning a user input to a variable can i assign a default value if the user doesn't enter a value - BingAI\n",
    "\n",
    "how do i make a grid in streamlit that grows dynamically with the length of a number where every individual number has its own column - BingAI\n",
    "\n"
   ]
  }
 ],
 "metadata": {
  "kernelspec": {
   "display_name": "AI_env",
   "language": "python",
   "name": "python3"
  },
  "language_info": {
   "codemirror_mode": {
    "name": "ipython",
    "version": 3
   },
   "file_extension": ".py",
   "mimetype": "text/x-python",
   "name": "python",
   "nbconvert_exporter": "python",
   "pygments_lexer": "ipython3",
   "version": "3.11.5"
  },
  "orig_nbformat": 4
 },
 "nbformat": 4,
 "nbformat_minor": 2
}

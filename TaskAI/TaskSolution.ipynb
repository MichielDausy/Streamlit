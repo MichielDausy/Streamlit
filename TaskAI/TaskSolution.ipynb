{
 "cells": [
  {
   "cell_type": "markdown",
   "metadata": {},
   "source": [
    "## Cryptarithmetic Puzzle\n",
    "\n",
    "Een cryptarithmetische puzzel is een soort wiskundige puzzel of woordpuzzel waarbij het doel is een rekenkundige vergelijking te ontcijferen waarbij de cijfers worden weergegeven door letters of symbolen.\n",
    "De uitdaging is om de juiste cijfer-naar-letter-toewijzing te vinden die voldoet aan de beperkingen van de vergelijking.\n",
    "Deze puzzels worden vaak gebruikt voor recreatieve en educatieve doeleinden en kunnen behoorlijk uitdagend zijn."
   ]
  },
  {
   "cell_type": "markdown",
   "metadata": {},
   "source": [
    "Ik importeer eerst de libraries die nodig zijn om de taak te maken."
   ]
  },
  {
   "cell_type": "code",
   "execution_count": 10,
   "metadata": {},
   "outputs": [],
   "source": [
    "import streamlit as st\n",
    "from simpleai.search import CspProblem, backtrack"
   ]
  },
  {
   "cell_type": "markdown",
   "metadata": {},
   "source": [
    "Eerst heb ik wat opzoekwerk gedaan over hoe ik een input kan vragen in streamlit. Daar heb ik dan snel een oplossing voor gevonden in de streamlit documentatie."
   ]
  },
  {
   "cell_type": "markdown",
   "metadata": {},
   "source": [
    "De streamlit app vraagt aan de gebruiker om 3 woorden in te geven.\n",
    "\n",
    "De woorden worden dan geconcateneerd en in een set geplaatst zodat ik een lijst krijg met alle letters die zijn ingegeven. Deze lijst gaat geen dubbele letters bevatten omdat het in een set werd gestoken."
   ]
  },
  {
   "cell_type": "code",
   "execution_count": 11,
   "metadata": {},
   "outputs": [],
   "source": [
    "number1 = st.text_input(\"Enter the first word:\") #TO\n",
    "number2 = st.text_input(\"Enter the second word:\") #GO\n",
    "result = st.text_input(\"Enter the result:\") #OUT\n",
    "variables = set(number1+number2+result) #TOGU"
   ]
  },
  {
   "cell_type": "markdown",
   "metadata": {},
   "source": [
    "Over het algemeen leek de code die ik moest gebruiken sterk op de code die ik in de oefeningen van hoofdstuk 3 had gemaakt.\n",
    "Het grootste verschil was om de mogelijkheid te bieden voor de letters zelf te kunnen kiezen en deze niet te hardcoden in dit programma.\n",
    "Door dit te doen kwamen er andere problemen tevoorschijn.\n",
    "\n",
    "Het grootste probleem was dat ik steeds een index out of range error kreeg bij onderstaande code omdat de gebruiker nog geen input had gegeven bij het opstarten van het programma."
   ]
  },
  {
   "cell_type": "markdown",
   "metadata": {},
   "source": [
    "In dit stuk code voorkom ik dat de eerste letter van de ingegeven woorden een 0 is.\n",
    "\n",
    "Om foutmeldingen te voorkomen waarin gezegd wordt dat de index van een van deze woorden \"out of range\" is doordat er nog geen input werd ingevuld door de gebuiker zet ik dit stuk code in een if statement.\n",
    "In deze if statement kijk ik of dat alle 3 de inputs werden ingevuld."
   ]
  },
  {
   "cell_type": "code",
   "execution_count": 12,
   "metadata": {},
   "outputs": [],
   "source": [
    "if len(number1) > 0 and len(number2) > 0 and len(result) > 0:\n",
    "        domains = {\n",
    "                number1[0]: list(range(1, 10)),\n",
    "                number2[0]: list(range(1, 10)),\n",
    "                result[0]: list(range(1, 10)),\n",
    "        }"
   ]
  },
  {
   "cell_type": "markdown",
   "metadata": {},
   "source": [
    "De andere letters zitten nog niet in de domain dictionary om aan te geven welke mogelijke waarden een letter kan hebben.\n",
    "\n",
    "Om dit te doen haal ik elke letter uit de variables set en check ik of deze nog niet in de domains dictionary zit.\n",
    "Hierna geef ik mee dat deze letters een waarde van 0 t.e.m. 9 kunnen aannemen."
   ]
  },
  {
   "cell_type": "code",
   "execution_count": 13,
   "metadata": {},
   "outputs": [],
   "source": [
    "if len(number1) > 0 and len(number2) > 0 and len(result) > 0:\n",
    "    for letter in variables:\n",
    "        if letter not in domains:\n",
    "            domains[letter] = list(range(0, 10))"
   ]
  },
  {
   "cell_type": "markdown",
   "metadata": {},
   "source": [
    "Hier schrijf ik 2 functies die gebruikt worden in een Constraint  Satisfaction Problem zodat de cijfers die toegekend worden aan de letters voldoen aan de cryptografische puzzel.\n",
    "\n",
    "Deze functie zorgt ervoor dat 1 cijfer zoals '3' niet aan meerdere letters kan toegewezen worden"
   ]
  },
  {
   "cell_type": "code",
   "execution_count": 14,
   "metadata": {},
   "outputs": [],
   "source": [
    "def constraint_unique(variables, values):\n",
    "    return len(values) == len(set(values)) "
   ]
  },
  {
   "cell_type": "markdown",
   "metadata": {},
   "source": [
    "Als het script een oplossing vindt waarbij alle letters een cijfer vertegenwoordigen en waarbij de return statement True geeft dan is er een oplossing gevonden."
   ]
  },
  {
   "cell_type": "code",
   "execution_count": 15,
   "metadata": {},
   "outputs": [],
   "source": [
    " #verwijder dubbele waarden en tel de lengte\n",
    "\n",
    "def constraint_add(variables, values):\n",
    "    factor1 = \"\"\n",
    "    factor2 = \"\"\n",
    "    sum = \"\"\n",
    "    for char in number1: #ga elk character van de string af\n",
    "        #het huidige character wordt hier gebruikt om de index te vinden\n",
    "        #van dat character in de variables set. bv: variables.index('O') == 1\n",
    "        \n",
    "        #de index wordt dan gebruikt om de waarde\n",
    "        #dat aan die letter werd gegeven te krijgen. bv: values[1] == 1\n",
    "\n",
    "        #uiteindelijk wordt deze waarde omgezet van een integer naar een string\n",
    "        #zodat deze toegevoegd kan aan de string factor1 zonder dat de integers worden opgeteld\n",
    "        #bv: '3' + '1' == '31' en niet 3 + 1 == 4\n",
    "        factor1 += str(values[variables.index(char)])\n",
    "    for char in number2:\n",
    "        factor2 += str(values[variables.index(char)])\n",
    "    for char in result:\n",
    "        sum += str(values[variables.index(char)])\n",
    "        #de strings moeten naar een integer worden omgezet\n",
    "        #om te kijken of de geassigneerde waardes ervoor zorgen dat factor1 + factor2 == sum\n",
    "    return (int(factor1) + int(factor2)) == int(sum)"
   ]
  },
  {
   "cell_type": "markdown",
   "metadata": {},
   "source": [
    "Hier geef ik een lijst van constraints mee die in het Constraint  Satisfaction Problem worden meegegeven."
   ]
  },
  {
   "cell_type": "code",
   "execution_count": 16,
   "metadata": {},
   "outputs": [],
   "source": [
    "constraints = [\n",
    "    (variables, constraint_unique), #variables = TOGU\n",
    "    (variables, constraint_add), #variables = TOGU\n",
    "]"
   ]
  },
  {
   "cell_type": "markdown",
   "metadata": {},
   "source": [
    "Hier wordt weer nagekeken of dat alle inputs zijn ingevuld om een index out of range error te vermijden.\n",
    "\n",
    "Er wordt een CspProblem object gemaakt met de constructor 'CspProblem' die 3 waarden gebruikt namelijk:\n",
    "1. De variables - deze bevatten alle unieke letters die werden ingegeven door de gebruiker\n",
    "2. De domains - deze bevat de mogelijke waarden elke letter kan hebben\n",
    "3. De constraints - deze omschrijft aan welke voorwaarde de assignatie van cijfers aan letters moeten voldoen\n",
    "\n",
    "Als er nog geen inputs zijn ingegeven dan wordt er 'No solution' afgeprint."
   ]
  },
  {
   "cell_type": "code",
   "execution_count": 17,
   "metadata": {},
   "outputs": [
    {
     "name": "stdout",
     "output_type": "stream",
     "text": [
      "No solution\n"
     ]
    }
   ],
   "source": [
    "if len(number1) > 0 and len(number2) > 0 and len(result) > 0:\n",
    "    problem = CspProblem(variables, domains, constraints)\n",
    "    output = backtrack(problem)\n",
    "    print('\\nSolutions:', output)\n",
    "else:\n",
    "    output = None\n",
    "    print('No solution')"
   ]
  },
  {
   "cell_type": "markdown",
   "metadata": {},
   "source": [
    "Om de juiste output te tonen in streamlit heb ik ook veel problemen mee ondervonden.\n",
    "Eerst werd alles onder elkaar getoond omdat ik telkens een ```st.write``` deed voor elke letter en cijfer.\n",
    "Ik heb lang geprobeerd om het mooi in een grid 3X3 te krijgen en deze naast elkaar te tonen maar uiteindelijk is het enkel gelukt om de 'grid' onder elkaar te tonen"
   ]
  },
  {
   "cell_type": "markdown",
   "metadata": {},
   "source": [
    "In deze Code cell staat alles om het resultaat te tonen in streamlit.\n",
    "\n",
    "Eerst is er een if statement die checkt of er een uitkomst is gevonden zodat er geen 'NoneType' errors voorkomen."
   ]
  },
  {
   "cell_type": "code",
   "execution_count": 18,
   "metadata": {},
   "outputs": [],
   "source": [
    "letters = []\n",
    "numbers = []\n",
    "letters1 = \"\"\n",
    "letters2 = \"\"\n",
    "letters3 = \"\"\n",
    "if output is not None:\n",
    "    #hier worden de letters en cijfers die aan elkaar verbonden zijn\n",
    "    #uit de dictionary gelezen en dan toegevoegd aan de letters en numbers list.\n",
    "    for letter, number in output.items(): \n",
    "        letters.append(letter)\n",
    "        #ik maak een string van de nummers\n",
    "        #zodat de spacing in de output overeenkomt met de letters\n",
    "        numbers.append(str(number)) \n",
    "    #de lijsten worden onder elkaar getoond\n",
    "    st.text(letters)\n",
    "    st.text(numbers)\n",
    "    #---------------------------------\n",
    "    #hier worden de ingegeven woorden simpleweg getoond om aan te tonen wat de oorspronkelijke som is\n",
    "    #en zodat je kan makkelijk zien hoe de cijfers overeenkomen met de letters\n",
    "    st.write(number1)\n",
    "    st.write(\"&plus;\", number2)\n",
    "    st.write(result)\n",
    "    #---------------------------------\n",
    "    #hier ga ik door elk woord heen door elke letter af te gaan\n",
    "    for letter in number1:\n",
    "        #met deze letter ga ik de value opvragen die eraan is gekoppeld in de output dictionary.\n",
    "        #bv: output = {'T' : 2} dan wordt output['T'] == 2\n",
    "\n",
    "        #dit cijfer moet ik nog omzetten naar een string zodat ik deze kan toevoegen\n",
    "        #aan de string letters1\n",
    "        letters1 += str(output[letter])\n",
    "    for letter in number2:\n",
    "        letters2 += str(output[letter])\n",
    "    for letter in result:\n",
    "        letters3 += str(output[letter])\n",
    "        #hier worden de string getoond op streamlit\n",
    "    st.write(letters1)\n",
    "    st.write(\"&plus;\", letters2)\n",
    "    st.write(letters3)"
   ]
  },
  {
   "cell_type": "markdown",
   "metadata": {},
   "source": [
    "## Generative AI Tools\n",
    "\n",
    "Ik heb vooral BingAI gebruikt i.p.v. ChatGPT omdat ik vooral vragen moest stellen over hoe ik de juiste output kan tonen in een streamlit app en\n",
    "omdat ChatGPT gelimiteerd was tot September 2021 werden er soms niet de nieuwste functies van streamlit getoond.\n",
    "\n",
    "### Prompts used\n",
    "\n",
    "In python can I loop over a list to create a key value pair in a dictionary - BingAI - Bij deze prompt wordt er mooi uitgelegd hoe dit haalbaar is met een voorbeeld.\n",
    "\n",
    "In python using the simpleai library explain how the constraints work - BingAI - Hier kan je zien dat de tekst bijna rechtstreeks van de simpleai docs komt en wordt er terug een voorbeeld gegeven.\n",
    "\n",
    "in streamlit when assigning a user input to a variable can i assign a default value if the user doesn't enter a value - BingAI - Dit had ik gevraagd om de index out of range error proberen op te lossen. BingAI zegt ook dat dit mogelijk is maar wanneer ik dit toepaste kon ik maar 1 keer het hele programma laten runnen, daarna als ik een woord veranderede in de input velden stopte het programma.\n",
    "\n",
    "how do i make a grid in streamlit that grows dynamically with the length of a number where every individual number has its own column - BingAI - Hier stelde het voor om st.beta_columns te gebruiken terwijl dat dit niet meer bestaat, dit is immers st.columns geworden dus de bron die het geraadpleegd heeft is niet de meest recente.\n",
    "\n",
    "explain this code:     problem = CspProblem(variables, domains, constraints)\n",
    "                        output = backtrack(problem) - ChatGPT\n",
    "\n",
    "explain what a cryptarithmetic puzzle is - ChatGPT - Hier krijg je niet de bronnen te zien omdat het ChatGPT is dus als je niet goed zou weten wat een cryptarithmetic puzzle is dan kan het zijn dat je een foute uitleg aanleerd.\n",
    "\n"
   ]
  }
 ],
 "metadata": {
  "kernelspec": {
   "display_name": "AI_env",
   "language": "python",
   "name": "python3"
  },
  "language_info": {
   "codemirror_mode": {
    "name": "ipython",
    "version": 3
   },
   "file_extension": ".py",
   "mimetype": "text/x-python",
   "name": "python",
   "nbconvert_exporter": "python",
   "pygments_lexer": "ipython3",
   "version": "3.11.5"
  },
  "orig_nbformat": 4
 },
 "nbformat": 4,
 "nbformat_minor": 2
}

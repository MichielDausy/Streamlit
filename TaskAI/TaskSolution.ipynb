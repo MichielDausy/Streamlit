{
 "cells": [
  {
   "cell_type": "markdown",
   "metadata": {},
   "source": [
    "## Cryptarithmetic Puzzle\n",
    "\n",
    "First I import the neccesary libraries to complete this task"
   ]
  },
  {
   "cell_type": "code",
   "execution_count": 1,
   "metadata": {},
   "outputs": [],
   "source": [
    "import streamlit as st\n",
    "from simpleai.search import CspProblem, backtrack"
   ]
  },
  {
   "cell_type": "markdown",
   "metadata": {},
   "source": [
    "The streamlit app asks the user to enter 3 words\n",
    "\n",
    "The words are concatenated, placed in a set so there are no duplicate characters and then placed into a tuple"
   ]
  },
  {
   "cell_type": "code",
   "execution_count": 10,
   "metadata": {},
   "outputs": [],
   "source": [
    "number1 = st.text_input(\"Enter the first word:\") #TO\n",
    "number2 = st.text_input(\"Enter the second word:\") #GO\n",
    "result = st.text_input(\"Enter the result:\") #OUT\n",
    "variables = (set(number1+number2+result)) #TOGU"
   ]
  },
  {
   "cell_type": "markdown",
   "metadata": {},
   "source": [
    "I then set the possible values for all the characters that the user entered where the first character of number 1, 2 and result cannot be 0\n",
    "\n",
    "The other chracters can be a number from 0 to 10"
   ]
  },
  {
   "cell_type": "code",
   "execution_count": 11,
   "metadata": {},
   "outputs": [
    {
     "ename": "IndexError",
     "evalue": "string index out of range",
     "output_type": "error",
     "traceback": [
      "\u001b[1;31m---------------------------------------------------------------------------\u001b[0m",
      "\u001b[1;31mIndexError\u001b[0m                                Traceback (most recent call last)",
      "\u001b[1;32mc:\\Users\\Michiel\\Dropbox\\pc\\Desktop\\Thomas_More\\2023 - 2024\\AI\\Streamlit\\TaskAI\\TaskSolution.ipynb Cell 6\u001b[0m line \u001b[0;36m2\n\u001b[0;32m      <a href='vscode-notebook-cell:/c%3A/Users/Michiel/Dropbox/pc/Desktop/Thomas_More/2023%20-%202024/AI/Streamlit/TaskAI/TaskSolution.ipynb#X11sZmlsZQ%3D%3D?line=0'>1</a>\u001b[0m domains \u001b[39m=\u001b[39m {\n\u001b[1;32m----> <a href='vscode-notebook-cell:/c%3A/Users/Michiel/Dropbox/pc/Desktop/Thomas_More/2023%20-%202024/AI/Streamlit/TaskAI/TaskSolution.ipynb#X11sZmlsZQ%3D%3D?line=1'>2</a>\u001b[0m     number1[\u001b[39m0\u001b[39;49m]: \u001b[39mlist\u001b[39m(\u001b[39mrange\u001b[39m(\u001b[39m1\u001b[39m, \u001b[39m10\u001b[39m)),\n\u001b[0;32m      <a href='vscode-notebook-cell:/c%3A/Users/Michiel/Dropbox/pc/Desktop/Thomas_More/2023%20-%202024/AI/Streamlit/TaskAI/TaskSolution.ipynb#X11sZmlsZQ%3D%3D?line=2'>3</a>\u001b[0m     number2[\u001b[39m0\u001b[39m]: \u001b[39mlist\u001b[39m(\u001b[39mrange\u001b[39m(\u001b[39m1\u001b[39m, \u001b[39m10\u001b[39m)),\n\u001b[0;32m      <a href='vscode-notebook-cell:/c%3A/Users/Michiel/Dropbox/pc/Desktop/Thomas_More/2023%20-%202024/AI/Streamlit/TaskAI/TaskSolution.ipynb#X11sZmlsZQ%3D%3D?line=3'>4</a>\u001b[0m     result[\u001b[39m0\u001b[39m]: \u001b[39mlist\u001b[39m(\u001b[39mrange\u001b[39m(\u001b[39m1\u001b[39m, \u001b[39m10\u001b[39m)),\n\u001b[0;32m      <a href='vscode-notebook-cell:/c%3A/Users/Michiel/Dropbox/pc/Desktop/Thomas_More/2023%20-%202024/AI/Streamlit/TaskAI/TaskSolution.ipynb#X11sZmlsZQ%3D%3D?line=4'>5</a>\u001b[0m }\n",
      "\u001b[1;31mIndexError\u001b[0m: string index out of range"
     ]
    }
   ],
   "source": [
    "domains = {\n",
    "    number1[0]: list(range(1, 10)),\n",
    "    number2[0]: list(range(1, 10)),\n",
    "    result[0]: list(range(1, 10)),\n",
    "}"
   ]
  },
  {
   "cell_type": "markdown",
   "metadata": {},
   "source": [
    "The other characters aren't added to the domain dictionary yet\n",
    "\n",
    "To do this I use a for loop to dynamically add the possible values to a character which are the numbers 0 through 10"
   ]
  },
  {
   "cell_type": "code",
   "execution_count": 9,
   "metadata": {},
   "outputs": [],
   "source": [
    "for variable in variables:\n",
    "    domains[variable] = list(range(0,10))"
   ]
  },
  {
   "cell_type": "markdown",
   "metadata": {},
   "source": [
    "Here I add a constraint to add the 2 words together "
   ]
  },
  {
   "cell_type": "code",
   "execution_count": null,
   "metadata": {},
   "outputs": [],
   "source": [
    "def constraint_unique(variables, values):\n",
    "    return len(values) == len(set(values))  # remove repeated values and count\n",
    "\n",
    "def constraint_add(variables, values):\n",
    "    factor1 = \"\"\n",
    "    factor2 = \"\"\n",
    "    result = \"\"\n",
    "    for char in number1:\n",
    "        factor1 += values[variables.index(char)]\n",
    "    for char in number2:\n",
    "        factor2 += values[variables.index(char)]\n",
    "    for char in result:\n",
    "        result += values[variables.index(char)]\n",
    "    return (factor1 + factor2) == result"
   ]
  },
  {
   "cell_type": "code",
   "execution_count": null,
   "metadata": {},
   "outputs": [],
   "source": [
    "constraints = [\n",
    "    (variables, constraint_unique),\n",
    "    (variables, constraint_add),\n",
    "]"
   ]
  },
  {
   "cell_type": "code",
   "execution_count": 3,
   "metadata": {},
   "outputs": [
    {
     "name": "stdout",
     "output_type": "stream",
     "text": [
      "\n",
      "Solutions: {'F': 1, 'T': 7, 'U': 3, 'W': 6, 'R': 0, 'O': 5}\n"
     ]
    }
   ],
   "source": [
    "problem = CspProblem(variables, domains, constraints)\n",
    "\n",
    "output = backtrack(problem)\n",
    "print('\\nSolutions:', output)"
   ]
  },
  {
   "cell_type": "markdown",
   "metadata": {},
   "source": [
    "## Generative AI Tools\n",
    "\n",
    "### Prompts used\n"
   ]
  }
 ],
 "metadata": {
  "kernelspec": {
   "display_name": "AI_env",
   "language": "python",
   "name": "python3"
  },
  "language_info": {
   "codemirror_mode": {
    "name": "ipython",
    "version": 3
   },
   "file_extension": ".py",
   "mimetype": "text/x-python",
   "name": "python",
   "nbconvert_exporter": "python",
   "pygments_lexer": "ipython3",
   "version": "3.11.5"
  },
  "orig_nbformat": 4
 },
 "nbformat": 4,
 "nbformat_minor": 2
}
